{
 "cells": [
  {
   "cell_type": "markdown",
   "metadata": {},
   "source": [
    "# ECE-6524 / CS-6524 Deep Learning\n",
    "# Assignment 2 [80 pts]\n",
    "\n",
    "In this assignment, **you need to complete the following sections**:\n",
    "1. PyTorch Basics\n",
    "    - Toy example with PyTorch\n",
    "2. Image Classification with PyTorch\n",
    "    - Implement a simple MLP network for image classification\n",
    "    - Implement a convolutional network for image classification\n",
    "    - Experiment with different numbers of layers and optimizers\n",
    "    - Push the performance of your CNN\n",
    "\n",
    "This assignment is inspired and adopted from the official PyTorch tutorial.\n",
    "## Submission guideline for the coding part (Jupyter Notebook)\n",
    "\n",
    "1. Click the Save button at the top of the Jupyter Notebook\n",
    "2. Please make sure to have entered your Virginia Tech PID below\n",
    "3. Select Cell -> All Output -> Clear. This will clear all the outputs from all cells (but will keep the content of cells)\n",
    "4. Select Cell -> Run All. This will run all the cells in order\n",
    "5. Once you've rerun everything, select File -> Download as -> PDF via LaTeX\n",
    "6. Look at the PDF file and make sure all your solutions are displayed correctly there \n",
    "7. Zip all the files along with this notebook (Please don't include the data). Name it as Assignment_2_Code_[YOUR PID NUMBER].zip\n",
    "8. Name your PDF file as Assignment_2_NB_[YOUR PID NUMBER].pdf\n",
    "9. **<span style=\"color:blue\"> Submit your zipped file and the PDF SEPARATELY**</span>\n",
    "\n",
    "Note: if facing issues with step 5 refer: https://pypi.org/project/notebook-as-pdf/\n",
    "\n",
    "## Submission guideline for the coding part (Google Colab)\n",
    "\n",
    "1. Click the Save button at the top of the Notebook\n",
    "2. Please make sure to have entered your Virginia Tech PID below\n",
    "3. Follow last two cells in this notebook for guidelines to download pdf file of this notebook\n",
    "4. Look at the PDF file and make sure all your solutions are displayed correctly there \n",
    "5. Zip all the files along with this notebook (Please don't include the data). Name it as Assignment_2_Code_[YOUR PID NUMBER].zip\n",
    "6. Name your PDF file as Assignment_2_NB_[YOUR PID NUMBER].pdf\n",
    "7. **<span style=\"color:blue\"> Submit your zipped file and the PDF SEPARATELY**</span>\n",
    "\n",
    "\n",
    "**While you are encouraged to discuss with your peers, <span style=\"color:blue\">all work submitted is expected to be your own.</span> <span style=\"color:red\">If you use any information from other resources (e.g. online materials), you are required to cite it below you VT PID. Any violation will result in a 0 mark for the assignment.</span>**"
   ]
  },
  {
   "cell_type": "markdown",
   "metadata": {},
   "source": [
    "### Please Write Your VT PID Here: 906255893\n",
    "### Reference (if any):\n",
    "\n",
    "https://pytorch.org/tutorials/beginner/blitz/cifar10_tutorial.html\n",
    "\n",
    "https://stackoverflow.com/questions/60050586/pytorch-change-the-learning-rate-based-on-number-of-epochs\n",
    "\n",
    "https://www.deeplearningwizard.com/deep_learning/boosting_models_pytorch/lr_scheduling/\n",
    "\n",
    "https://stackoverflow.com/questions/55157514/implement-dropout-to-fully-connected-layer-in-pytorch\n",
    "\n",
    "https://stackoverflow.com/questions/59003591/how-to-implement-dropout-in-pytorch-and-where-to-apply-it \n",
    "\n",
    "https://pytorch.org/docs/stable/generated/torch.nn.BatchNorm2d.html\n",
    "\n",
    "https://discuss.pytorch.org/t/batch-normalization-of-linear-layers/20989/19\n",
    "\n",
    "https://www.programcreek.com/python/example/118835/torch.nn.ZeroPad2d\n",
    "\n",
    "https://stats.stackexchange.com/questions/274601/convolutional-neural-networks-what-is-done-first-padding-or-convolving\n",
    "\n",
    "https://github.com/pytorch/pytorch/issues/7911"
   ]
  },
  {
   "cell_type": "markdown",
   "metadata": {},
   "source": [
    "In this homework, you would need to use **Python 3.6+** along with the following packages:\n",
    "```\n",
    "1. pytorch 1.2\n",
    "2. torchvision\n",
    "3. numpy\n",
    "4. matplotlib\n",
    "```\n",
    "To install pytorch, please follow the instructions on the [Official website](https://pytorch.org/). In addition, the [official document](https://pytorch.org/docs/stable/) could be very helpful when you want to find certain functionalities. \n",
    "\n",
    "You can also consider to use Google Colab, where PyTorch has been installed."
   ]
  },
  {
   "cell_type": "markdown",
   "metadata": {},
   "source": [
    "# Section 1. PyTorch Basics [10 pts]"
   ]
  },
  {
   "cell_type": "markdown",
   "metadata": {},
   "source": [
    "Simply put, PyTorch is a **Tensor** library like Numpy. These two libraries similarly provide useful and efficient APIs for you to deal with your tensor data. What really differentiate PyTorch from Numpy are the following two features:\n",
    "1. Numerical operations that can **run on GPUs** (more than 10x speedup)\n",
    "2. Automatic differentiation for building and training neural networks\n",
    "\n",
    "In this section, we will walk through some simple example, and see how the automatic differentiation functionality can make your life much easier."
   ]
  },
  {
   "cell_type": "markdown",
   "metadata": {},
   "source": [
    "### To select GPU in Google Colab:\n",
    "- go to **Edit -> Notebook settings -> Hardware accelerator -> GPU**"
   ]
  },
  {
   "cell_type": "code",
   "execution_count": 1,
   "metadata": {},
   "outputs": [],
   "source": [
    "import torch # import pytorch.\n",
    "import torch.nn as nn\n",
    "import pandas as pd"
   ]
  },
  {
   "cell_type": "code",
   "execution_count": 2,
   "metadata": {},
   "outputs": [],
   "source": [
    "dtype = torch.float\n",
    "device = torch.device(\"cpu\")\n",
    "#device = torch.device(\"cuda:0\") # Uncomment this to run on GPU\n",
    "#print(torch.cuda.get_device_name(0)) # Check GPU Device name"
   ]
  },
  {
   "cell_type": "markdown",
   "metadata": {},
   "source": [
    "## 1.1. Automatic Differentiation\n",
    "Gradient descent is the driving force of the deep learning field. In the lectures and assignment 1, we learned how to derive the gradient for a given function, and implement methods for calculating and performing gradient descents. We also see how we can manually implement the backward and forward functions for the simple NN example. While implementing these functions may not be a big deal for a small network, it may get very nasty when we want to build something with tens of hundreds of layers.\n",
    "\n",
    "In PyTorch (as well as other major deep learning libraries), we can use autograd ([automatic differentiation](https://en.wikipedia.org/wiki/Automatic_differentiation)) to handle the tedious computation of backward passes. When doing forward passes with autograd, we are essentially defining a **computational graph**, while the nodes in the graph are **tensors**, the edges are the functions that produce output tensors (e.g. ReLU, Linear, Convolutional Layer) given the input tensors. To do backpropagation, we can simply backtrack through this graph to compute gradients. \n",
    "\n",
    "This may sound a little bit abstract, so let's take a look at the example:"
   ]
  },
  {
   "cell_type": "code",
   "execution_count": 3,
   "metadata": {},
   "outputs": [
    {
     "name": "stdout",
     "output_type": "stream",
     "text": [
      "tensor([[ 0.0949, -0.0138],\n",
      "        [ 0.2356, -2.0579]], requires_grad=True)\n",
      "tensor([[ 0.3393, -1.0406],\n",
      "        [-0.0984, -0.3833]], requires_grad=True)\n",
      "tensor([[ 0.4342, -1.0544],\n",
      "        [ 0.1372, -2.4411]], grad_fn=<AddBackward0>)\n",
      "tensor(-2.9242, grad_fn=<SumBackward0>)\n",
      "tensor(-12.9242, grad_fn=<SubBackward0>)\n",
      "-----gradient-----\n",
      "None\n",
      "None\n"
     ]
    }
   ],
   "source": [
    "target = 10.\n",
    "\n",
    "# create a matrix of size 2x2. Each with value draws from standard normal distribution.\n",
    "x = torch.randn(2, 2, requires_grad=True) \n",
    "y = torch.randn(2, 2, requires_grad=True)\n",
    "\n",
    "a = x + y # element-wise addition\n",
    "b = a.sum() # sum of all tensor elements\n",
    "loss = b - target\n",
    "\n",
    "# print out each tensor:\n",
    "print(x)\n",
    "print(y)\n",
    "print(a)\n",
    "print(b)\n",
    "print(loss)\n",
    "\n",
    "print(\"-----gradient-----\")\n",
    "print(x.grad)\n",
    "print(y.grad)"
   ]
  },
  {
   "cell_type": "markdown",
   "metadata": {},
   "source": [
    "In the above example, we have seen a few things:\n",
    "1. `requires_grad` flag: If false, we can safely exclude this tensor (and its subgraph) from gradient computation and therefore increase efficiency.\n",
    "2. `grad_fn`: we can see that once an operation is done to a tensor, the output tensor is bound to a backward function associated to the operation. In this case, we have Add, Sum, and Sub.\n",
    "\n",
    "However, even if we set `requires_grad=True`, we still don't have gradient for `x` and `y`. This is because that we haven't performed the backpropagation yet. So let's do it:"
   ]
  },
  {
   "cell_type": "code",
   "execution_count": 4,
   "metadata": {},
   "outputs": [
    {
     "name": "stdout",
     "output_type": "stream",
     "text": [
      "-----gradient-----\n",
      "tensor([[1., 1.],\n",
      "        [1., 1.]])\n",
      "tensor([[1., 1.],\n",
      "        [1., 1.]])\n"
     ]
    }
   ],
   "source": [
    "# perform backpropagation from this \"node\"\n",
    "loss.backward()\n",
    "print('-----gradient-----')\n",
    "print(x.grad)\n",
    "print(y.grad)"
   ]
  },
  {
   "cell_type": "markdown",
   "metadata": {},
   "source": [
    "Great, seems like we can perform gradient descent without writing backwards function! Now, let's see a simple toy example on how we can fit some weights `w1` and `w2` with random input `x` and target `y`: "
   ]
  },
  {
   "cell_type": "code",
   "execution_count": 5,
   "metadata": {},
   "outputs": [
    {
     "name": "stdout",
     "output_type": "stream",
     "text": [
      "iteration 99: 459.8053894042969\n",
      "iteration 199: 1.9945298433303833\n",
      "iteration 299: 0.015411265194416046\n",
      "iteration 399: 0.0003314874484203756\n",
      "iteration 499: 4.998676376999356e-05\n"
     ]
    }
   ],
   "source": [
    "# N is batch size; D_in is input dimension;\n",
    "# H is hidden dimension; D_out is output dimension.\n",
    "N, D_in, H, D_out = 64, 1000, 100, 10\n",
    "\n",
    "# Create random Tensors to hold input and outputs.\n",
    "# Setting requires_grad=False indicates that we do not need to compute gradients (becaue these are inputs)\n",
    "# with respect to these Tensors during the backward pass.\n",
    "x = torch.randn(N, D_in, device=device, dtype=dtype)\n",
    "y = torch.randn(N, D_out, device=device, dtype=dtype)\n",
    "\n",
    "# Create random Tensors for weights.\n",
    "# Setting requires_grad=True indicates that we want to compute gradients with\n",
    "# respect to these Tensors during the backward pass.\n",
    "w1 = torch.randn(D_in, H, device=device, dtype=dtype, requires_grad=True)\n",
    "w2 = torch.randn(H, D_out, device=device, dtype=dtype, requires_grad=True)\n",
    "\n",
    "learning_rate = 1e-6\n",
    "for t in range(500):\n",
    "    # Forward pass: compute predicted y using operations on Tensors; these\n",
    "    # are exactly the same operations we used to compute the forward pass using\n",
    "    # Tensors, but we do not need to keep references to intermediate values since\n",
    "    # we are not implementing the backward pass by hand.\n",
    "    y_pred = x.mm(w1).clamp(min=0).mm(w2) # .mm is matrix multiplication; .clamp is element-wise lower bound\n",
    "\n",
    "    # Compute and print loss using operations on Tensors.\n",
    "    # Now loss is a Tensor of shape (1,)\n",
    "    # loss.item() gets the scalar value held in the loss.\n",
    "    loss = (y_pred - y).pow(2).sum() # .pow is exponential\n",
    "    if t % 100 == 99:\n",
    "        print(f'iteration {t}: {loss.item()}')\n",
    "    # Use autograd to compute the backward pass. This call will compute the\n",
    "    # gradient of loss with respect to all Tensors with requires_grad=True.\n",
    "    # After this call w1.grad and w2.grad will be Tensors holding the gradient\n",
    "    # of the loss with respect to w1 and w2 respectively.\n",
    "    loss.backward()\n",
    "\n",
    "    # Manually update weights using gradient descent. Wrap in torch.no_grad()\n",
    "    # because weights have requires_grad=True, but we don't need to track this\n",
    "    # in autograd.  (because we don't need the gradient for the operation \n",
    "    # learning_rate * w1.grad)\n",
    "    # An alternative way is to operate on weight.data and weight.grad.data.\n",
    "    # Recall that tensor.data gives a tensor that shares the storage with\n",
    "    # tensor, but doesn't track history.\n",
    "    # You can also use torch.optim.SGD to achieve this.\n",
    "    with torch.no_grad(): # disables gradient calculation for gradient enabled items in the indent (saves memory)\n",
    "        w1 -= learning_rate * w1.grad\n",
    "        w2 -= learning_rate * w2.grad\n",
    "\n",
    "        # Manually zero the gradients after updating weights\n",
    "        w1.grad.zero_() # re-defines the gradient as zeros\n",
    "        w2.grad.zero_()"
   ]
  },
  {
   "cell_type": "markdown",
   "metadata": {},
   "source": [
    "## 1.2. `nn` Module\n",
    "Computational graphs and autograd are a very powerful paradigm for defining complex operators and automatically taking derivatives; however for large neural networks raw autograd can be a bit too low-level.\n",
    "\n",
    "When building neural networks we frequently think of arranging the computation into layers, some of which have learnable parameters which will be optimized during learning.\n",
    "\n",
    "In PyTorch, the nn package serves this purpose. The nn package defines a set of Modules, which are roughly equivalent to neural network layers. A Module receives input Tensors and computes output Tensors, but may also hold internal state such as Tensors containing learnable parameters. The nn package also defines a set of useful loss functions that are commonly used when training neural networks.\n",
    "\n",
    "Now, let's see how our simple NN could be implemented using the nn module."
   ]
  },
  {
   "cell_type": "code",
   "execution_count": 6,
   "metadata": {},
   "outputs": [
    {
     "name": "stdout",
     "output_type": "stream",
     "text": [
      "iteration 99: 1.9561800956726074\n",
      "iteration 199: 0.03138311579823494\n",
      "iteration 299: 0.0011750109260901809\n",
      "iteration 399: 7.658985123271123e-05\n",
      "iteration 499: 6.7862251853512134e-06\n"
     ]
    }
   ],
   "source": [
    "import torch.nn as nn\n",
    "# N is batch size; D_in is input dimension;\n",
    "# H is hidden dimension; D_out is output dimension.\n",
    "N, D_in, H, D_out = 64, 1000, 100, 10 # add variables to add layers\n",
    "\n",
    "# Create random Tensors to hold inputs and outputs\n",
    "x = torch.randn(N, D_in)\n",
    "y = torch.randn(N, D_out)\n",
    "\n",
    "# Use the nn package to define our model as a sequence of layers. nn.Sequential\n",
    "# is a Module which contains other Modules, and applies them in sequence to\n",
    "# produce its output. Each Linear Module computes output from input using a\n",
    "# linear function, and holds internal Tensors for its weight and bias.\n",
    "model = nn.Sequential(\n",
    "    nn.Linear(D_in, H),\n",
    "    nn.ReLU(),                    # change this line to change the type of activation functions, add lines to add layers\n",
    "    nn.Linear(H, D_out),\n",
    ")\n",
    "\n",
    "# The nn package also contains definitions of popular loss functions; in this\n",
    "# case we will use Mean Squared Error (MSE) as our loss function.\n",
    "loss_fn = nn.MSELoss(reduction='sum') # change this line to change type of loss function\n",
    "\n",
    "learning_rate = 1e-4                  # change this line to change the learning rate\n",
    "for t in range(500):                  # training loop\n",
    "    # Forward pass: compute predicted y by passing x to the model. Module objects\n",
    "    # override the __call__ operator so you can call them like functions. When\n",
    "    # doing so you pass a Tensor of input data to the Module and it produces\n",
    "    # a Tensor of output data.\n",
    "    y_pred = model(x) #this line predicts\n",
    "\n",
    "    # Compute and print loss. We pass Tensors containing the predicted and true\n",
    "    # values of y, and the loss function returns a Tensor containing the\n",
    "    # loss.\n",
    "    loss = loss_fn(y_pred, y)\n",
    "    if t % 100 == 99:\n",
    "        print(f'iteration {t}: {loss.item()}')\n",
    "\n",
    "    # Zero the gradients before running the backward pass.\n",
    "    model.zero_grad()\n",
    "\n",
    "    # Backward pass: compute gradient of the loss with respect to all the learnable\n",
    "    # parameters of the model. Internally, the parameters of each Module are stored\n",
    "    # in Tensors with requires_grad=True, so this call will compute gradients for\n",
    "    # all learnable parameters in the model.\n",
    "    loss.backward()\n",
    "\n",
    "    # Update the weights using gradient descent. Each parameter is a Tensor, so\n",
    "    # we can access its gradients like we did before.\n",
    "    with torch.no_grad():\n",
    "        for param in model.parameters():\n",
    "            param -= learning_rate * param.grad"
   ]
  },
  {
   "cell_type": "markdown",
   "metadata": {},
   "source": [
    "So far, we have been updating the model parameters manually with `torch.no_grad()`. However, if we want to use optimization algorithms other than SGD, it might get a bit nasty to do it manually. Instead of manually doing this, we can use `optim` pacakge to help optimize our model: "
   ]
  },
  {
   "cell_type": "code",
   "execution_count": 7,
   "metadata": {},
   "outputs": [
    {
     "name": "stdout",
     "output_type": "stream",
     "text": [
      "iteration 99: 2.2279138565063477\n",
      "iteration 199: 0.02976147085428238\n",
      "iteration 299: 0.000836348976008594\n",
      "iteration 399: 3.2277690479531884e-05\n",
      "iteration 499: 1.4482692449746537e-06\n"
     ]
    }
   ],
   "source": [
    "N, D_in, H, D_out = 64, 1000, 100, 10\n",
    "\n",
    "# Create random Tensors to hold inputs and outputs\n",
    "x = torch.randn(N, D_in)\n",
    "y = torch.randn(N, D_out)\n",
    "\n",
    "# Use the nn package to define our model and loss function.\n",
    "model = nn.Sequential(\n",
    "    nn.Linear(D_in, H),\n",
    "    nn.ReLU(),\n",
    "    nn.Linear(H, D_out),\n",
    ")\n",
    "loss_fn = torch.nn.MSELoss(reduction='sum')\n",
    "\n",
    "# Use the optim package to define an Optimizer that will update the weights of\n",
    "# the model for us. \n",
    "learning_rate = 1e-4\n",
    "optimizer = torch.optim.SGD(model.parameters(), lr=learning_rate) # apply SGD on parameters(weights), with a specified learning rate\n",
    "for t in range(500):\n",
    "    # Forward pass: compute predicted y by passing x to the model.\n",
    "    y_pred = model(x)\n",
    "\n",
    "    # Compute and print loss.\n",
    "    loss = loss_fn(y_pred, y)\n",
    "    if t % 100 == 99:\n",
    "        print(f'iteration {t}: {loss.item()}')\n",
    "\n",
    "    # Before the backward pass, use the optimizer object to zero all of the\n",
    "    # gradients for the variables it will update (which are the learnable\n",
    "    # weights of the model). This is because by default, gradients are\n",
    "    # accumulated in buffers( i.e, not overwritten) whenever .backward()\n",
    "    # is called. Checkout docs of torch.autograd.backward for more details.\n",
    "    optimizer.zero_grad()\n",
    "\n",
    "    # Backward pass: compute gradient of the loss with respect to model\n",
    "    # parameters\n",
    "    loss.backward()\n",
    "\n",
    "    # Calling the step function on an Optimizer makes an update to its\n",
    "    # parameters\n",
    "    optimizer.step()"
   ]
  },
  {
   "cell_type": "markdown",
   "metadata": {},
   "source": [
    "Sometimes you will want to specify models that are more complex than a sequence of existing Modules; for these cases you can define your own Modules by subclassing nn.Module and defining a forward which receives input Tensors and produces output Tensors using other modules or other autograd operations on Tensors.\n",
    "\n",
    "For example, we can implement our 2-layer simple NN as the following:"
   ]
  },
  {
   "cell_type": "code",
   "execution_count": 8,
   "metadata": {},
   "outputs": [
    {
     "name": "stdout",
     "output_type": "stream",
     "text": [
      "iteration 99: 2.4409382343292236\n",
      "iteration 199: 0.03862939774990082\n",
      "iteration 299: 0.0010430209804326296\n",
      "iteration 399: 3.347339225001633e-05\n",
      "iteration 499: 1.210722643918416e-06\n"
     ]
    }
   ],
   "source": [
    "# Earlier we had one layer, here we make a whole class just for two layer NN\n",
    "class TwoLayerNet(nn.Module):\n",
    "    def __init__(self, D_in, H, D_out):\n",
    "        \"\"\"\n",
    "        In the constructor we instantiate two nn.Linear modules and assign them as\n",
    "        member variables.\n",
    "        \"\"\"\n",
    "        super(TwoLayerNet, self).__init__()\n",
    "        self.linear1 = nn.Linear(D_in, H)\n",
    "        self.linear2 = nn.Linear(H, D_out)\n",
    "\n",
    "    def forward(self, x):\n",
    "        \"\"\"\n",
    "        In the forward function we accept a Tensor of input data and we must return\n",
    "        a Tensor of output data. We can use Modules defined in the constructor as\n",
    "        well as arbitrary operators on Tensors.\n",
    "        \"\"\"\n",
    "        h_relu = self.linear1(x).clamp(min=0)\n",
    "        y_pred = self.linear2(h_relu)\n",
    "        return y_pred\n",
    "\n",
    "\n",
    "# N is batch size; D_in is input dimension;\n",
    "# H is hidden dimension; D_out is output dimension.\n",
    "N, D_in, H, D_out = 64, 1000, 100, 10\n",
    "\n",
    "# Create random Tensors to hold inputs and outputs\n",
    "x = torch.randn(N, D_in)\n",
    "y = torch.randn(N, D_out)\n",
    "\n",
    "# Construct our model by instantiating the class defined above\n",
    "model = TwoLayerNet(D_in, H, D_out)\n",
    "\n",
    "# Construct our loss function and an Optimizer. The call to model.parameters()\n",
    "# in the SGD constructor will contain the learnable parameters of the two\n",
    "# nn.Linear modules which are members of the model.\n",
    "criterion = nn.MSELoss(reduction='sum')\n",
    "optimizer = torch.optim.SGD(model.parameters(), lr=1e-4)\n",
    "for t in range(500):\n",
    "    # Forward pass: Compute predicted y by passing x to the model\n",
    "    y_pred = model(x)\n",
    "\n",
    "    # Compute and print loss\n",
    "    loss = criterion(y_pred, y)\n",
    "    if t % 100 == 99:\n",
    "        print(f'iteration {t}: {loss.item()}')\n",
    "\n",
    "    # Zero gradients, perform a backward pass, and update the weights.\n",
    "    optimizer.zero_grad()\n",
    "    loss.backward()\n",
    "    optimizer.step()"
   ]
  },
  {
   "cell_type": "markdown",
   "metadata": {},
   "source": [
    "## 1.3. Warm-up: Two-moon datasets [10 pts]\n",
    "Now, let's use PyTorch to solve some synthetic datasets. In previous assignment, we have to write some codes to create training batches. Again, this can also be done with PyTorch `DataLoader`. The `DataLoader` utilizes parallel workers to read and prepare batches for you, which can greatly speedup the code when your time bottleneck is on file I/O.\n",
    "\n",
    "Here, we show a simple example that can create a dataloader from numpy data:"
   ]
  },
  {
   "cell_type": "markdown",
   "metadata": {},
   "source": [
    "### Setup for Google Colab (Skip for Jupyter Notebook)"
   ]
  },
  {
   "cell_type": "code",
   "execution_count": 9,
   "metadata": {},
   "outputs": [],
   "source": [
    "#from google.colab import drive\n",
    "#drive.mount('/content/drive')"
   ]
  },
  {
   "cell_type": "code",
   "execution_count": 10,
   "metadata": {},
   "outputs": [],
   "source": [
    "# Find path to your data folder in drive and enter for \"path_to_dataset\"\n",
    "path_to_dataset = 'C:/My Files/Python Projects/CS 6524 - Deep Learning/Assignment_2/data'\n",
    "# For Jupyter notebook give path from your local PC"
   ]
  },
  {
   "cell_type": "code",
   "execution_count": 11,
   "metadata": {},
   "outputs": [
    {
     "data": {
      "image/png": "[encoded data removed]",
      "text/plain": [
       "<Figure size 432x288 with 1 Axes>"
      ]
     },
     "metadata": {
      "needs_background": "light"
     },
     "output_type": "display_data"
    }
   ],
   "source": [
    "import numpy as np\n",
    "import matplotlib.pyplot as plt\n",
    "\n",
    "X_train = np.loadtxt(path_to_dataset + '/X1_train.csv', delimiter=',')\n",
    "X_test = np.loadtxt(path_to_dataset + '/X1_test.csv', delimiter=',')\n",
    "y_train = np.loadtxt(path_to_dataset + '/y1_train.csv', delimiter=',')\n",
    "y_test = np.loadtxt(path_to_dataset + '/y1_test.csv', delimiter=',')\n",
    "\n",
    "# Plot it to see why is it called two-moon dataset\n",
    "plt.scatter(X_train[:, 0], X_train[:, 1], c=y_train);"
   ]
  },
  {
   "cell_type": "markdown",
   "metadata": {},
   "source": [
    "Now, let's create a PyTorch `DataLoader`:"
   ]
  },
  {
   "cell_type": "code",
   "execution_count": 12,
   "metadata": {},
   "outputs": [],
   "source": [
    "from torch.utils.data import TensorDataset, DataLoader\n",
    "batch_size = 64 # mini-batch size\n",
    "num_workers = 4 # how many parallel workers are we gonna use for reading data\n",
    "shuffle = True # shuffle the dataset\n",
    "\n",
    "# Convert numpy array import torch tensor\n",
    "X_train = torch.FloatTensor(X_train)\n",
    "X_test = torch.FloatTensor(X_test)\n",
    "y_train = torch.LongTensor(y_train.reshape(-1, 1))\n",
    "y_test = torch.LongTensor(y_test.reshape(-1, 1))\n",
    "\n",
    "# First, create a dataset from torch tensor. A dataset defines how to read data\n",
    "# and process data for creating mini-batches.\n",
    "train_dataset = TensorDataset(X_train, y_train)\n",
    "train_loader = DataLoader(train_dataset, batch_size=batch_size, \n",
    "                          num_workers=num_workers, shuffle=shuffle)"
   ]
  },
  {
   "cell_type": "code",
   "execution_count": 13,
   "metadata": {},
   "outputs": [
    {
     "name": "stdout",
     "output_type": "stream",
     "text": [
      "torch.Size([700, 2])\n",
      "torch.Size([700, 1])\n"
     ]
    }
   ],
   "source": [
    "print(X_train.shape)\n",
    "print(y_train.shape)"
   ]
  },
  {
   "cell_type": "markdown",
   "metadata": {},
   "source": [
    "Below, we provide a simple example on how to train your model with this dataloader:"
   ]
  },
  {
   "cell_type": "code",
   "execution_count": 14,
   "metadata": {},
   "outputs": [
    {
     "name": "stdout",
     "output_type": "stream",
     "text": [
      "Epoch 0: 4.042147874832153\n",
      "Epoch 1: 2.980900391936302\n",
      "Epoch 2: 2.909360408782959\n",
      "Epoch 3: 2.897918224334717\n",
      "Epoch 4: 2.8876380026340485\n"
     ]
    }
   ],
   "source": [
    "epoch = 5 # an epoch means looping through all the data in the datasets\n",
    "lr = 1e-1\n",
    "\n",
    "# create a simple model that is probably not gonna work well\n",
    "model = nn.Linear(X_train.size(1), 1)\n",
    "optim = torch.optim.SGD(model.parameters(), lr=lr)\n",
    "\n",
    "for e in range(epoch):\n",
    "    loss_epoch = 0\n",
    "    # loop through train loader to get x and y\n",
    "    for x, y in train_loader:\n",
    "        optim.zero_grad()\n",
    "        y_pred = model(x)\n",
    "        # !!WARNING!!\n",
    "        # THIS IS A CLASSIFICATION TASK, SO YOU SHOULD NOT\n",
    "        # USE THIS LOSS FUNCTION. \n",
    "        loss = (y_pred - y.float()).abs().mean()\n",
    "        loss.backward()\n",
    "        optim.step()\n",
    "        loss_epoch += loss.item()\n",
    "    print(f'Epoch {e}: {loss_epoch}')"
   ]
  },
  {
   "cell_type": "markdown",
   "metadata": {},
   "source": [
    "### 1.3.1 Your Simple NN [10 pts]\n",
    "Now, it is time for you to implement your own model for this classification task. Your job here is to:\n",
    "1. Complete the SimpleNN class. It should be a 2- or 3-layer NN with proper non-linearity.\n",
    "2. Train your model with SGD optimizer.\n",
    "3. Tune your model a bit so you can achieve at least 80% accuracy on training set.\n",
    "Hint: you might want to look up `nn.ReLU`, `nn.Sigmoid`, `nn.BCELoss` in the [official document](https://pytorch.org/docs/stable/). You are allowed to freely pick the hyperparameters of your model.\n",
    "4. **Please note this is a binary classification problem.**"
   ]
  },
  {
   "cell_type": "code",
   "execution_count": 15,
   "metadata": {},
   "outputs": [],
   "source": [
    "class SimpleNN(nn.Module):\n",
    "    \n",
    "    def __init__(self):\n",
    "        super(SimpleNN, self).__init__()\n",
    "        ################################################################################\n",
    "        # TODO:                                                                        #\n",
    "        # Construct your small feedforward NN here.                                    #\n",
    "        ################################################################################\n",
    "        self.linear1 = nn.Linear(X_train.size(1),X_train.size(1))\n",
    "        self.relu = nn.ReLU()\n",
    "        self.sigmoid = nn.Sigmoid()\n",
    "        self.linear2 = nn.Linear(X_train.size(1),X_train.size(1))\n",
    "        self.linear3 = nn.Linear(X_train.size(1),y_train.size(1))\n",
    "        ################################################################################\n",
    "        #                                 END OF YOUR CODE                             #\n",
    "        ################################################################################\n",
    "            \n",
    "    def forward(self, x):\n",
    "        ################################################################################\n",
    "        # TODO:                                                                        #\n",
    "        # feed the input to your network, and output the predictions.                  #\n",
    "        ################################################################################\n",
    "        h_relu1 = self.relu(self.linear1(x)).clamp(min=0)\n",
    "        h_relu2 = self.relu(h_relu1)\n",
    "        y_pred = self.linear3(h_relu2).clamp(min=0, max=1)\n",
    "        return y_pred\n",
    "        ################################################################################\n",
    "        #                                 END OF YOUR CODE                             #\n",
    "        ################################################################################"
   ]
  },
  {
   "cell_type": "code",
   "execution_count": 16,
   "metadata": {},
   "outputs": [
    {
     "name": "stdout",
     "output_type": "stream",
     "text": [
      "Epoch 0: 343.997332572937\n",
      "Epoch 1: 33.01499265432358\n",
      "Epoch 2: 16.892427265644073\n",
      "Epoch 3: 16.67810082435608\n",
      "Epoch 4: 16.322940051555634\n",
      "Epoch 5: 10.159232199192047\n",
      "Epoch 6: 9.889030039310455\n",
      "Epoch 7: 6.690589368343353\n",
      "Epoch 8: 6.498433738946915\n",
      "Epoch 9: 6.363052129745483\n",
      "Epoch 10: 6.237988710403442\n",
      "Epoch 11: 6.113109618425369\n",
      "Epoch 12: 6.011174499988556\n",
      "Epoch 13: 5.910803526639938\n",
      "Epoch 14: 5.813974916934967\n",
      "Epoch 15: 5.740914195775986\n",
      "Epoch 16: 5.672750473022461\n",
      "Epoch 17: 5.579660952091217\n",
      "Epoch 18: 5.523961246013641\n",
      "Epoch 19: 5.440015763044357\n",
      "Epoch 20: 6.856804579496384\n",
      "Epoch 21: 6.775015324354172\n",
      "Epoch 22: 6.805482059717178\n",
      "Epoch 23: 6.7342745661735535\n",
      "Epoch 24: 6.57165002822876\n",
      "Epoch 25: 6.51840928196907\n",
      "Epoch 26: 6.4454182386398315\n",
      "Epoch 27: 6.395413368940353\n",
      "Epoch 28: 6.349895179271698\n",
      "Epoch 29: 6.291986584663391\n",
      "Epoch 30: 6.244314104318619\n",
      "Epoch 31: 6.190547466278076\n",
      "Epoch 32: 6.149473309516907\n",
      "Epoch 33: 6.10388919711113\n",
      "Epoch 34: 6.0606381595134735\n",
      "Epoch 35: 6.021833717823029\n",
      "Epoch 36: 5.987824723124504\n",
      "Epoch 37: 6.047749489545822\n",
      "Epoch 38: 5.915362745523453\n",
      "Epoch 39: 5.883849680423737\n",
      "Epoch 40: 5.851063936948776\n",
      "Epoch 41: 5.82422947883606\n",
      "Epoch 42: 5.790830582380295\n",
      "Epoch 43: 5.7617268562316895\n",
      "Epoch 44: 5.738993763923645\n",
      "Epoch 45: 5.7227872014045715\n",
      "Epoch 46: 5.705028831958771\n",
      "Epoch 47: 5.676450461149216\n",
      "Epoch 48: 5.654165416955948\n",
      "Epoch 49: 5.638865828514099\n"
     ]
    }
   ],
   "source": [
    "epoch = 50 # an epoch means looping through all the data in the datasets\n",
    "lr = 0.5e-2\n",
    "\n",
    "# create a simple model that is probably not gonna work well\n",
    "\n",
    "################################################################################\n",
    "# TODO:                                                                        #\n",
    "# Initialize your model and SGD optimizer here.                                #\n",
    "################################################################################\n",
    "model = SimpleNN()\n",
    "criterion = nn.BCELoss(reduction='mean')\n",
    "optim = torch.optim.SGD(model.parameters(), lr=lr)\n",
    "################################################################################\n",
    "#                                 END OF YOUR CODE                             #\n",
    "################################################################################\n",
    "\n",
    "for e in range(epoch):\n",
    "    loss_epoch = 0  # record accmulative loss for each epoch\n",
    "    ################################################################################\n",
    "    # TODO:                                                                        #\n",
    "    # Loop through the dataloader and train your model with nn.BCELoss.            #\n",
    "    ################################################################################\n",
    "    for x, y in train_loader:\n",
    "        optim.zero_grad()\n",
    "        y_pred = model(x)\n",
    "        # Compute and print loss\n",
    "        loss = criterion(y_pred, y.float())\n",
    "        loss.backward()\n",
    "        optim.step()\n",
    "        loss_epoch += loss.item()   \n",
    "    print(f'Epoch {e}: {loss_epoch}')\n",
    "    ################################################################################\n",
    "    #                                 END OF YOUR CODE                             #\n",
    "    ################################################################################"
   ]
  },
  {
   "cell_type": "code",
   "execution_count": 17,
   "metadata": {},
   "outputs": [],
   "source": [
    "# helper function for computing accuracy\n",
    "def get_acc(pred, y):\n",
    "    pred = pred.float()\n",
    "    y = y.float()\n",
    "    return (y==pred).sum().float()/y.size(0)*100."
   ]
  },
  {
   "cell_type": "markdown",
   "metadata": {},
   "source": [
    "Evaluate your accuracy:"
   ]
  },
  {
   "cell_type": "code",
   "execution_count": 18,
   "metadata": {},
   "outputs": [
    {
     "name": "stdout",
     "output_type": "stream",
     "text": [
      "Training accuracy: 80.28571319580078, Testing accuracy: 81.33333587646484\n"
     ]
    }
   ],
   "source": [
    "y_pred = (model(X_train) > 0.5)\n",
    "train_acc = get_acc(y_pred, y_train)\n",
    "\n",
    "y_pred = (model(X_test) > 0.5)\n",
    "test_acc = get_acc(y_pred, y_test)\n",
    "print(f'Training accuracy: {train_acc}, Testing accuracy: {test_acc}')"
   ]
  },
  {
   "cell_type": "markdown",
   "metadata": {},
   "source": [
    "# Section 2. Image Classification with CNN [70 pts]\n",
    "Now, we are back to the image classification problem. In this section, our goal is to, again, train models on CIFAR-10 to perform image classification. Your tasks here are to:\n",
    "1. Build and Train a simple feed-forward Neural Network (consists of only nn.Linear layer with activation function) for the classification task\n",
    "2. Build and Train a **Convolutional** Neural Network (CNN) for the classification task\n",
    "3. Try different settings for training your CNN\n",
    "4. Reproduce"
   ]
  },
  {
   "cell_type": "markdown",
   "metadata": {},
   "source": [
    "In the following cell, we provide the code for creating a CIFAR10 dataloader. As you can see, PyTorch's `torchvision` package actually has an interface for the CIFAR10 dataset: "
   ]
  },
  {
   "cell_type": "code",
   "execution_count": 19,
   "metadata": {},
   "outputs": [
    {
     "name": "stdout",
     "output_type": "stream",
     "text": [
      "Downloading https://www.cs.toronto.edu/~kriz/cifar-10-python.tar.gz to ./data\\cifar-10-python.tar.gz\n"
     ]
    },
    {
     "data": {
      "application/vnd.jupyter.widget-view+json": {
       "model_id": "7f8d82d74a3641628724a8ffb7b36c8d",
       "version_major": 2,
       "version_minor": 0
      },
      "text/plain": [
       "HBox(children=(FloatProgress(value=1.0, bar_style='info', max=1.0), HTML(value='')))"
      ]
     },
     "metadata": {},
     "output_type": "display_data"
    },
    {
     "name": "stdout",
     "output_type": "stream",
     "text": [
      "Extracting ./data\\cifar-10-python.tar.gz to ./data\n",
      "Files already downloaded and verified\n"
     ]
    }
   ],
   "source": [
    "import torchvision\n",
    "import torchvision.transforms as transforms\n",
    "\n",
    "# Preprocessing steps on the training/testing data. You can define your own data augmentation\n",
    "# here, and PyTorch's API will do the rest for you.\n",
    "transform_train = transforms.Compose([\n",
    "    transforms.ToTensor(),\n",
    "    transforms.Normalize((0.4914, 0.4822, 0.4465), (0.2023, 0.1994, 0.2010)),\n",
    "])\n",
    "\n",
    "transform_test = transforms.Compose([\n",
    "    transforms.ToTensor(),\n",
    "    transforms.Normalize((0.4914, 0.4822, 0.4465), (0.2023, 0.1994, 0.2010)),\n",
    "])\n",
    "\n",
    "# This will automatically download the dataset for you if it cannot find the data in root\n",
    "trainset = torchvision.datasets.CIFAR10(root='./data', train=True, download=True, transform=transform_train)\n",
    "testset = torchvision.datasets.CIFAR10(root='./data', train=False, download=True, transform=transform_test)"
   ]
  },
  {
   "cell_type": "markdown",
   "metadata": {},
   "source": [
    "## 2.1 Simple NN [10 pts]\n",
    "Implement a simple feed-forward neural network, and train it on the CIFAR-10 training set. Here's some specific requirements:\n",
    "1. The network should only consists of `nn.Linear` layers and the activation functions of your choices (e.g. `nn.Tanh`, `nn.ReLU`, `nn.Sigmoid`, etc). \n",
    "2. Train your model with `torch.optim.SGD` with the hyperparameters you like the most. \n",
    "\n",
    "Note that the hyperparameters work in previous assignment might not work the same, as the implementations of layers could be different."
   ]
  },
  {
   "cell_type": "markdown",
   "metadata": {},
   "source": [
    "### 2.1.1 Design and training [8 pts]"
   ]
  },
  {
   "cell_type": "code",
   "execution_count": 20,
   "metadata": {},
   "outputs": [],
   "source": [
    "class SimpleNN(nn.Module):\n",
    "    \n",
    "    def __init__(self,n_input, n_classes):\n",
    "        super(SimpleNN, self).__init__()\n",
    "        ################################################################################\n",
    "        # TODO:                                                                        #\n",
    "        # Construct your small feedforward NN here.                                    #\n",
    "        ################################################################################\n",
    "        self.relu = nn.ReLU()\n",
    "        self.sigmoid = nn.Sigmoid()\n",
    "        self.tanh = nn.Tanh()\n",
    "        self.linear1 = nn.Linear(n_input,128)\n",
    "        #self.linear2 = nn.Linear(64,16)\n",
    "        self.linear3 = nn.Linear(128,n_classes)\n",
    "        ################################################################################\n",
    "        #                                 END OF YOUR CODE                             #\n",
    "        ################################################################################\n",
    "        \n",
    "    def forward(self, x):\n",
    "        # note that: here, the data is of the shape (B, C, H, W)\n",
    "        # where B is the batch size, C is color channels, and H\n",
    "        # and W is height and width.\n",
    "        # To feed it into the linear layer, we need to reshape it\n",
    "        # with .view() function.\n",
    "        batch_size = x.size(0)\n",
    "        x = x.view(batch_size, -1) # reshape the data from (B, C, H, W) to (B, C*H*W)\n",
    "        ################################################################################\n",
    "        # TODO:                                                                        #\n",
    "        # Forward pass, output the prediction score.                                   #\n",
    "        ################################################################################\n",
    "        h_relu1 = self.relu(self.linear1(x))\n",
    "        #h_relu2 = self.relu(self.linear2(h_relu1))\n",
    "        y_pred = self.linear3(h_relu1)\n",
    "        return y_pred\n",
    "        ################################################################################\n",
    "        #                                 END OF YOUR CODE                             #\n",
    "        ################################################################################\n",
    "        \n",
    "       "
   ]
  },
  {
   "cell_type": "code",
   "execution_count": 21,
   "metadata": {},
   "outputs": [],
   "source": [
    "#import pandas as pd\n",
    "#y_df = torch.from_numpy(np.multiply(np.array(pd.get_dummies(y)), np.array(y[:, np.newaxis])))\n",
    "#print(y.size())"
   ]
  },
  {
   "cell_type": "code",
   "execution_count": 55,
   "metadata": {},
   "outputs": [
    {
     "name": "stdout",
     "output_type": "stream",
     "text": [
      "Epoch 0: 1310.7541319131851\n",
      "Epoch 1: 1187.2067142128944\n",
      "Epoch 2: 1133.4428404569626\n",
      "Epoch 3: 1093.5442214012146\n",
      "Epoch 4: 1063.0170793533325\n",
      "Epoch 5: 1032.396923482418\n",
      "Epoch 6: 1007.3433351516724\n",
      "Epoch 7: 986.3450821042061\n",
      "Epoch 8: 966.4079872369766\n",
      "Epoch 9: 950.0153229236603\n"
     ]
    }
   ],
   "source": [
    "epoch = 10\n",
    "lr = 0.5e-1\n",
    "n_input = 3072\n",
    "n_classes = 10\n",
    "\n",
    "train_loader = torch.utils.data.DataLoader(trainset, batch_size=64, shuffle=True, num_workers=2)\n",
    "test_loader = torch.utils.data.DataLoader(testset, batch_size=100, shuffle=False, num_workers=2)\n",
    "\n",
    "################################################################################\n",
    "# TODO:                                                                        #\n",
    "# Your training code here.                                                     #\n",
    "################################################################################\n",
    "model = SimpleNN(n_input, n_classes)\n",
    "loog = nn.LogSoftmax()\n",
    "#criterion1 = nn.MSELoss(reduction='mean')\n",
    "criterion2 = nn.CrossEntropyLoss(reduction='mean')\n",
    "optim = torch.optim.SGD(model.parameters(), lr=lr)\n",
    "\n",
    "for e in range(epoch):\n",
    "    loss_epoch = 0  # record accmulative loss for each epoch\n",
    "    for x, y in train_loader:\n",
    "        #y_df = torch.from_numpy(np.array(pd.get_dummies(y)))\n",
    "        #y_df = torch.from_numpy(np.multiply(np.array(pd.get_dummies(y)), np.array(y[:, None])))\n",
    "        optim.zero_grad()\n",
    "        y_pred = model(x)\n",
    "        #logits = loog(y_pred, dim=1)\n",
    "        # Compute and print loss\n",
    "        #loss = criterion1(y_pred, y_df.float())\n",
    "        loss = criterion2(y_pred, y)\n",
    "        loss.backward()\n",
    "        optim.step()\n",
    "        loss_epoch += loss.item()   \n",
    "    print(f'Epoch {e}: {loss_epoch}')\n",
    "################################################################################\n",
    "#                                 END OF YOUR CODE                             #\n",
    "################################################################################\n",
    "\n"
   ]
  },
  {
   "cell_type": "markdown",
   "metadata": {},
   "source": [
    "Now evaluate your model with the helper function:"
   ]
  },
  {
   "cell_type": "code",
   "execution_count": 53,
   "metadata": {},
   "outputs": [],
   "source": [
    "def get_model_acc(model, loader):\n",
    "    ys = []\n",
    "    y_preds = []\n",
    "    for x, y in loader:\n",
    "        ys.append(y)\n",
    "        # set the prediction to the one that has highest value\n",
    "        # Note that the the output size of model(x) is (B, 10)\n",
    "        y_preds.append(torch.argmax(model(x), dim=1))\n",
    "    y = torch.cat(ys, dim=0)\n",
    "    y_pred = torch.cat(y_preds, dim=0)\n",
    "    print((y == y_pred).sum())\n",
    "    return get_acc(y_pred, y)"
   ]
  },
  {
   "cell_type": "markdown",
   "metadata": {},
   "source": [
    "### 2.1.2 Evaluate NN [2 pts]\n",
    "Evaluate your NN. You should get an accuracy around **50%** on training set and **49%** on testing set."
   ]
  },
  {
   "cell_type": "code",
   "execution_count": 54,
   "metadata": {},
   "outputs": [
    {
     "name": "stdout",
     "output_type": "stream",
     "text": [
      "tensor(30198)\n",
      "tensor(4873)\n",
      "Training accuracy: 60.39599609375, Testing accuracy: 48.72999954223633\n"
     ]
    }
   ],
   "source": [
    "train_acc = get_model_acc(model, train_loader)\n",
    "test_acc = get_model_acc(model, test_loader)\n",
    "print(f'Training accuracy: {train_acc}, Testing accuracy: {test_acc}')"
   ]
  },
  {
   "cell_type": "markdown",
   "metadata": {},
   "source": [
    "## 2.2 Convolutional Neural Network (CNN) [60 pts]\n",
    "Convolutional layer has been proven to be extremely useful for vision-based task. As mentioned in the lecture, this speical layer allows the model to learn filters that capture crucial visual features. \n",
    "\n"
   ]
  },
  {
   "cell_type": "markdown",
   "metadata": {},
   "source": [
    "### 2.2.1 Implement and Evaluate CNN [15 pts]\n",
    "In this section, you will need to construct a CNN for classifying CIFAR-10 image. Specifically, you need to:\n",
    "1. build a `CNNClassifier` with `nn.Conv2d`, `nn.Maxpool2d` and activation functions that you think are appropriate. \n",
    "2. You would need to flatten the output of your convolutional networks with `view()`, and feed it into a `nn.Linear` layer to predict the class labels of the input. \n",
    "\n",
    "Once you are done with your module, train it with `optim.SGD`, and evaluate it. You should get an accuracy around **55%** on training set and **53%** on testing set.\n",
    "\n",
    "Hint: You might want to look up `nn.Conv2d`, `nn.Maxpool2d`, `nn.CrossEntropyLoss()`, `view()` and `size()`."
   ]
  },
  {
   "cell_type": "code",
   "execution_count": 25,
   "metadata": {},
   "outputs": [],
   "source": [
    "classes = ('plane', 'car', 'bird', 'cat','deer', 'dog', 'frog', 'horse', 'ship', 'truck')"
   ]
  },
  {
   "cell_type": "code",
   "execution_count": 26,
   "metadata": {},
   "outputs": [],
   "source": [
    "class CNNClassifier(nn.Module):\n",
    "    \n",
    "    def __init__(self):\n",
    "        super(CNNClassifier, self).__init__()\n",
    "        ################################################################################\n",
    "        # TODO:                                                                        #\n",
    "        # Construct a CNN with 2 or 3 convolutional layers and 1 linear layer for      #\n",
    "        # outputing class prediction. You are free to pick the hyperparameters         #\n",
    "        ################################################################################\n",
    "        self.relu = nn.ReLU()\n",
    "        self.sigmoid = nn.Sigmoid()\n",
    "        self.tanh = nn.Tanh()\n",
    "        self.conv1 = nn.Conv2d(in_channels= 3, out_channels= 6, kernel_size= (5, 5), stride=(1, 1))\n",
    "        self.conv2 = nn.Conv2d(in_channels= 6, out_channels= 10, kernel_size= (5, 5), stride=(1, 1))\n",
    "        self.nopool = nn.MaxPool2d(kernel_size=(1, 1), stride=(1, 1))\n",
    "        self.pool = nn.MaxPool2d(kernel_size=(2, 2), stride=(2, 2))\n",
    "        self.fc1 = nn.Linear(1440, 10)\n",
    "        ################################################################################\n",
    "        #                                 END OF YOUR CODE                             #\n",
    "        ################################################################################\n",
    "        \n",
    "        \n",
    "    def forward(self, x):\n",
    "        ################################################################################\n",
    "        # TODO:                                                                        #\n",
    "        # Forward pass of your network. First extract feature with CNN, and predict    #\n",
    "        # class scores with linear layer. Be careful about your input/output shape.    #\n",
    "        ################################################################################\n",
    "        L1 = self.conv1(x)\n",
    "        A1 = self.relu(L1)\n",
    "        L2 = self.conv2(A1)\n",
    "        A2 = self.relu(L2)\n",
    "        P = self.pool(A2)\n",
    "        P = P.view(-1, 1440)\n",
    "        y_pred = self.fc1(P)\n",
    "        return y_pred\n",
    "        ################################################################################\n",
    "        #                                 END OF YOUR CODE                             #\n",
    "        ################################################################################"
   ]
  },
  {
   "cell_type": "code",
   "execution_count": 27,
   "metadata": {},
   "outputs": [
    {
     "name": "stdout",
     "output_type": "stream",
     "text": [
      "Epoch 0: 1346.1375125646591\n",
      "Epoch 1: 1094.7937898635864\n",
      "Epoch 2: 1023.9885115027428\n",
      "Epoch 3: 986.9946244359016\n",
      "Epoch 4: 967.6558980345726\n",
      "Epoch 5: 949.2772778272629\n",
      "Epoch 6: 936.8154314756393\n",
      "Epoch 7: 928.7873584628105\n",
      "Epoch 8: 923.2326212525368\n",
      "Epoch 9: 912.9903720021248\n"
     ]
    }
   ],
   "source": [
    "# You can tune these hyperparameters as you like.\n",
    "epoch = 10\n",
    "lr = 1e-1\n",
    "n_input = 3072\n",
    "n_classes = 10\n",
    "batch_size = 64\n",
    "num_workers = num_workers\n",
    "\n",
    "train_loader = torch.utils.data.DataLoader(trainset, batch_size=64, shuffle=True, num_workers=2)\n",
    "test_loader = torch.utils.data.DataLoader(testset, batch_size=100, shuffle=False, num_workers=2)\n",
    "\n",
    "################################################################################\n",
    "# TODO:                                                                        #\n",
    "# Your training code here.                                                     #\n",
    "################################################################################\n",
    "model = CNNClassifier()\n",
    "criterion = nn.CrossEntropyLoss(reduction='mean')\n",
    "optim = torch.optim.SGD(model.parameters(), lr=lr)\n",
    "\n",
    "for e in range(epoch):\n",
    "    loss_epoch = 0  # record accmulative loss for each epoch\n",
    "    for x, y in train_loader:\n",
    "        optim.zero_grad()\n",
    "        y_pred = model(x)\n",
    "        loss = criterion(y_pred, y)\n",
    "        loss.backward()\n",
    "        optim.step()\n",
    "        loss_epoch += loss.item()   \n",
    "    print(f'Epoch {e}: {loss_epoch}')\n",
    "################################################################################\n",
    "#                                 END OF YOUR CODE                             #\n",
    "################################################################################"
   ]
  },
  {
   "cell_type": "code",
   "execution_count": 28,
   "metadata": {},
   "outputs": [
    {
     "name": "stdout",
     "output_type": "stream",
     "text": [
      "tensor(27996)\n",
      "tensor(5093)\n",
      "Training accuracy: 55.992000579833984, Testing accuracy: 50.93000030517578\n"
     ]
    }
   ],
   "source": [
    "# turn on evaluation mode. This is crucial when you have BatchNorm in your network,\n",
    "# as you want to use the running mean/std you obtain durining training time to normalize\n",
    "# your input data. Rememeber to call .train() function after evaluation\n",
    "model.eval()\n",
    "train_acc = get_model_acc(model, train_loader)\n",
    "test_acc = get_model_acc(model, test_loader)\n",
    "print(f'Training accuracy: {train_acc}, Testing accuracy: {test_acc}')"
   ]
  },
  {
   "cell_type": "markdown",
   "metadata": {},
   "source": [
    "<span style=\"color:red\">**Explain your design and hyperparameter choice in three or four sentences:**</span>"
   ]
  },
  {
   "cell_type": "markdown",
   "metadata": {},
   "source": [
    "### 2.2.2 STACK MORE LAYERS [20 pts]\n",
    "Now, **try at least 4 network architectures with different numbers of convolutional layers**. Train these settings with `optim.SGD`, plot the training/testing accuracy as a fuction of convolutional layers and describe what you have observed (running time, performance, etc). **Please make sure your figures are with clear legends and labels**."
   ]
  },
  {
   "cell_type": "code",
   "execution_count": 31,
   "metadata": {},
   "outputs": [
    {
     "name": "stdout",
     "output_type": "stream",
     "text": [
      "Epoch 0: 1367.6025564670563\n",
      "Epoch 1: 1160.055477976799\n",
      "Epoch 2: 1086.6813896894455\n",
      "Epoch 3: 1050.5588245391846\n",
      "Epoch 4: 1023.9805533289909\n",
      "Epoch 5: 1004.7851570248604\n",
      "Epoch 6: 991.8736841082573\n",
      "Epoch 7: 980.5361415743828\n",
      "Epoch 8: 972.2141416668892\n",
      "Epoch 9: 964.1871168017387\n",
      "tensor(27108)\n",
      "tensor(5194)\n",
      "Epoch 0: 1441.8738029003143\n",
      "Epoch 1: 1158.2617857456207\n",
      "Epoch 2: 1084.2183108329773\n",
      "Epoch 3: 1030.382139325142\n",
      "Epoch 4: 981.7172821760178\n",
      "Epoch 5: 939.8931796550751\n",
      "Epoch 6: 908.6770750880241\n",
      "Epoch 7: 885.8234311938286\n",
      "Epoch 8: 868.9094648957253\n",
      "Epoch 9: 853.3241126537323\n",
      "tensor(31166)\n",
      "tensor(5837)\n",
      "Epoch 0: 1450.030819773674\n",
      "Epoch 1: 1200.2273219823837\n",
      "Epoch 2: 1116.8519477844238\n",
      "Epoch 3: 1059.6884330511093\n",
      "Epoch 4: 1011.1001118421555\n",
      "Epoch 5: 971.353840470314\n",
      "Epoch 6: 937.3617902994156\n",
      "Epoch 7: 910.3374658823013\n",
      "Epoch 8: 886.7259957790375\n",
      "Epoch 9: 866.8454926609993\n",
      "tensor(29952)\n",
      "tensor(5617)\n",
      "Epoch 0: 1662.2089253664017\n",
      "Epoch 1: 1324.675388455391\n",
      "Epoch 2: 1197.879613161087\n",
      "Epoch 3: 1134.8522534370422\n",
      "Epoch 4: 1082.2700179815292\n",
      "Epoch 5: 1041.8531643152237\n",
      "Epoch 6: 1009.0942101478577\n",
      "Epoch 7: 978.2670582532883\n",
      "Epoch 8: 954.7855724096298\n",
      "Epoch 9: 936.4366793632507\n",
      "tensor(28409)\n",
      "tensor(5449)\n"
     ]
    },
    {
     "data": {
      "image/png": "[encoded data removed]",
      "text/plain": [
       "<Figure size 432x288 with 1 Axes>"
      ]
     },
     "metadata": {
      "needs_background": "light"
     },
     "output_type": "display_data"
    }
   ],
   "source": [
    "class Flex_CNNClassifier(nn.Module):\n",
    "    \n",
    "    def __init__(self, conv_layer_num):\n",
    "        super(Flex_CNNClassifier, self).__init__()\n",
    "        self.lrs = conv_layer_num\n",
    "        self.relu = nn.ReLU()\n",
    "        self.sigmoid = nn.Sigmoid()\n",
    "        self.tanh = nn.Tanh()\n",
    "        self.conv1 = nn.Conv2d(in_channels= 3, out_channels= 6, kernel_size= (5, 5), stride=(1, 1))\n",
    "        self.conv2 = nn.Conv2d(in_channels= 6, out_channels= 10, kernel_size= (5, 5), stride=(1, 1))\n",
    "        self.conv3 = nn.Conv2d(in_channels= 10, out_channels= 16, kernel_size= (5, 5), stride=(1, 1))\n",
    "        self.conv4 = nn.Conv2d(in_channels= 16, out_channels= 20, kernel_size= (5, 5), stride=(1, 1))\n",
    "        self.pool = nn.MaxPool2d(kernel_size=(2, 2), stride=(2, 2))\n",
    "        self.fc1 = nn.Linear((14**2)*6, 10)\n",
    "        self.fc2 = nn.Linear((12**2)*10, 10)\n",
    "        self.fc3 = nn.Linear((10**2)*16, 10)\n",
    "        self.fc4 = nn.Linear((8**2)*20, 10)\n",
    "    \n",
    "    def forward(self, x):\n",
    "        L1 = self.conv1(x)\n",
    "        A1 = self.relu(L1)\n",
    "        L2 = self.conv2(A1)\n",
    "        A2 = self.relu(L2)\n",
    "        L3 = self.conv3(A2)\n",
    "        A3 = self.relu(L3)\n",
    "        L4 = self.conv4(A3)\n",
    "        A4 = self.relu(L4)\n",
    "        if self.lrs == 1:\n",
    "            P = self.pool(A1)\n",
    "            P = P.view(-1, (14**2)*6)\n",
    "            y_pred = self.fc1(P)\n",
    "        elif self.lrs == 2:\n",
    "            P = self.pool(A2)\n",
    "            P = P.view(-1, (12**2)*10)\n",
    "            y_pred = self.fc2(P)\n",
    "        elif self.lrs == 3:\n",
    "            P = self.pool(A3)\n",
    "            P = P.view(-1, (10**2)*16)\n",
    "            y_pred = self.fc3(P)\n",
    "        elif self.lrs == 4:\n",
    "            P = self.pool(A4)\n",
    "            P = P.view(-1, (8**2)*20)\n",
    "            y_pred = self.fc4(P)       \n",
    "        else:\n",
    "            print(\"Layer number out of bounds\")\n",
    "        return y_pred\n",
    "\n",
    "################################################################################\n",
    "# TODO:                                                                        #\n",
    "# Your training code here.                                                     #\n",
    "################################################################################\n",
    "# Type your code here\n",
    "acc_hist_1 = np.zeros(4)\n",
    "acc_hist_2 = np.zeros(4)\n",
    "lr = 1e-2\n",
    "lrs = np.array([1,2,3,4])\n",
    "\n",
    "for i in range(4):\n",
    "    model = Flex_CNNClassifier(conv_layer_num=lrs[i])\n",
    "    criterion = nn.CrossEntropyLoss(reduction='mean')\n",
    "    optim = torch.optim.SGD(model.parameters(), lr=lr)\n",
    "\n",
    "    for e in range(epoch):\n",
    "        loss_epoch = 0  # record accmulative loss for each epoch\n",
    "        for x, y in train_loader:\n",
    "            optim.zero_grad()\n",
    "            y_pred = model(x)\n",
    "            loss = criterion(y_pred, y)\n",
    "            loss.backward()\n",
    "            optim.step()\n",
    "            loss_epoch += loss.item()   \n",
    "        print(f'Epoch {e}: {loss_epoch}')\n",
    "    \n",
    "    model.eval()\n",
    "    acc_hist_1[i] = get_model_acc(model, train_loader)\n",
    "    acc_hist_2[i] = get_model_acc(model, test_loader)\n",
    "    \n",
    "fig=plt.figure()\n",
    "ax=fig.add_subplot(111)\n",
    " \n",
    "ax.plot(lrs,acc_hist_1,c='b',ls='-',label='Training')\n",
    "ax.plot(lrs,acc_hist_2,c='g',ls='-',label='Test')\n",
    "plt.ylabel('Accuracy');\n",
    "plt.xlabel('Layer Number'); \n",
    "plt.legend(loc=1)\n",
    "plt.show()\n",
    "################################################################################\n",
    "#                                 END OF YOUR CODE                             #\n",
    "################################################################################"
   ]
  },
  {
   "cell_type": "markdown",
   "metadata": {},
   "source": [
    "<span style=\"color:red\">**Briefly explain what you have observed in three or four sentences. Does stacking layers always give you better results? How about the computational time?:**</span>\n",
    "\n",
    "I observed that accuracy increases sharply when moving from 1 to 2 convolutional layers (given the implemented batch size, learning rate, number of epochs, and network structure). However, it seems to decline after the second layer. So, stacking the layers does not always give better results. With regards to computational time; two layers required almost 56% more time than one layer. Training 3 layers used almost the same computing time as 2 layers. While training 4 layers took around 100% more computing time than training 1 layer."
   ]
  },
  {
   "cell_type": "markdown",
   "metadata": {},
   "source": [
    "### 2.2.3 Optimizer? Optimizer! [15 pts]\n",
    "So far, we only use SGD as our optimizer. Now, pick two other optimizers, train your favorite CNN models, and compare the performance you get. What did you see?"
   ]
  },
  {
   "cell_type": "code",
   "execution_count": 32,
   "metadata": {},
   "outputs": [
    {
     "name": "stderr",
     "output_type": "stream",
     "text": [
      "C:\\Users\\Mohamed\\anaconda3\\lib\\site-packages\\torch\\optim\\lr_scheduler.py:118: UserWarning: Detected call of `lr_scheduler.step()` before `optimizer.step()`. In PyTorch 1.1.0 and later, you should call them in the opposite order: `optimizer.step()` before `lr_scheduler.step()`.  Failure to do this will result in PyTorch skipping the first value of the learning rate schedule. See more details at https://pytorch.org/docs/stable/optim.html#how-to-adjust-learning-rate\n",
      "  warnings.warn(\"Detected call of `lr_scheduler.step()` before `optimizer.step()`. \"\n"
     ]
    },
    {
     "name": "stdout",
     "output_type": "stream",
     "text": [
      "Epoch: 0 LR: [0.1]\n",
      "Epoch 0: 1568.715371966362\n",
      "Epoch: 1 LR: [0.1]\n",
      "Epoch 1: 1316.8971726894379\n",
      "Epoch: 2 LR: [0.1]\n",
      "Epoch 2: 1230.996357679367\n",
      "Epoch: 3 LR: [0.1]\n",
      "Epoch 3: 1187.2535238265991\n",
      "Epoch: 4 LR: [0.010000000000000002]\n",
      "Epoch 4: 1068.2154883742332\n",
      "Epoch: 5 LR: [0.010000000000000002]\n",
      "Epoch 5: 1046.491004884243\n",
      "Epoch: 6 LR: [0.010000000000000002]\n",
      "Epoch 6: 1037.3748940229416\n",
      "Epoch: 7 LR: [0.010000000000000002]\n",
      "Epoch 7: 1028.8273550868034\n",
      "Epoch: 8 LR: [0.010000000000000002]\n",
      "Epoch 8: 1022.1391524672508\n",
      "Epoch: 9 LR: [0.0010000000000000002]\n",
      "Epoch 9: 1007.390858232975\n",
      "tensor(27006)\n",
      "tensor(5095)\n",
      "Epoch: 0 LR: [0.1]\n",
      "Epoch 0: 2404.5809268951416\n",
      "Epoch: 1 LR: [0.1]\n",
      "Epoch 1: 1807.9622678756714\n",
      "Epoch: 2 LR: [0.1]\n",
      "Epoch 2: 1807.788645029068\n",
      "Epoch: 3 LR: [0.1]\n",
      "Epoch 3: 1807.7257747650146\n",
      "Epoch: 4 LR: [0.010000000000000002]\n",
      "Epoch 4: 1801.6532595157623\n",
      "Epoch: 5 LR: [0.010000000000000002]\n",
      "Epoch 5: 1801.442007780075\n",
      "Epoch: 6 LR: [0.010000000000000002]\n",
      "Epoch 6: 1801.429447889328\n",
      "Epoch: 7 LR: [0.010000000000000002]\n",
      "Epoch 7: 1801.3693861961365\n",
      "Epoch: 8 LR: [0.010000000000000002]\n",
      "Epoch 8: 1801.40988945961\n",
      "Epoch: 9 LR: [0.0010000000000000002]\n",
      "Epoch 9: 1800.8420312404633\n",
      "tensor(5000)\n",
      "tensor(1000)\n",
      "Epoch: 0 LR: [0.1]\n",
      "Epoch 0: 2920.7967274188995\n",
      "Epoch: 1 LR: [0.1]\n",
      "Epoch 1: 1790.083065032959\n",
      "Epoch: 2 LR: [0.1]\n",
      "Epoch 2: 1758.1927163600922\n",
      "Epoch: 3 LR: [0.1]\n",
      "Epoch 3: 1702.8284920454025\n",
      "Epoch: 4 LR: [0.010000000000000002]\n",
      "Epoch 4: 1664.8972063064575\n",
      "Epoch: 5 LR: [0.010000000000000002]\n",
      "Epoch 5: 1656.5828493833542\n",
      "Epoch: 6 LR: [0.010000000000000002]\n",
      "Epoch 6: 1649.0860701799393\n",
      "Epoch: 7 LR: [0.010000000000000002]\n",
      "Epoch 7: 1641.3129262924194\n",
      "Epoch: 8 LR: [0.010000000000000002]\n",
      "Epoch 8: 1632.762781739235\n",
      "Epoch: 9 LR: [0.0010000000000000002]\n",
      "Epoch 9: 1627.0012127161026\n",
      "tensor(12329)\n",
      "tensor(2343)\n",
      "Epoch: 0 LR: [0.1]\n",
      "Epoch 0: 1413.1542731523514\n",
      "Epoch: 1 LR: [0.1]\n",
      "Epoch 1: 1215.8522526025772\n",
      "Epoch: 2 LR: [0.1]\n",
      "Epoch 2: 1119.0119786262512\n",
      "Epoch: 3 LR: [0.1]\n",
      "Epoch 3: 1059.5922682881355\n",
      "Epoch: 4 LR: [0.010000000000000002]\n",
      "Epoch 4: 897.497022330761\n",
      "Epoch: 5 LR: [0.010000000000000002]\n",
      "Epoch 5: 867.4511707425117\n",
      "Epoch: 6 LR: [0.010000000000000002]\n",
      "Epoch 6: 851.9731856584549\n",
      "Epoch: 7 LR: [0.010000000000000002]\n",
      "Epoch 7: 839.9251609444618\n",
      "Epoch: 8 LR: [0.010000000000000002]\n",
      "Epoch 8: 829.7991673350334\n",
      "Epoch: 9 LR: [0.0010000000000000002]\n",
      "Epoch 9: 805.6851415634155\n",
      "tensor(32174)\n",
      "tensor(5805)\n"
     ]
    },
    {
     "data": {
      "image/png": "[encoded data removed]",
      "text/plain": [
       "<Figure size 432x288 with 1 Axes>"
      ]
     },
     "metadata": {
      "needs_background": "light"
     },
     "output_type": "display_data"
    }
   ],
   "source": [
    "epoch = 10\n",
    "lr = 1e-1\n",
    "n_input = 3072\n",
    "n_classes = 10\n",
    "batch_size = 64\n",
    "num_workers = num_workers\n",
    "\n",
    "train_loader = torch.utils.data.DataLoader(trainset, batch_size=64, shuffle=True, num_workers=2)\n",
    "test_loader = torch.utils.data.DataLoader(testset, batch_size=100, shuffle=False, num_workers=2)\n",
    "\n",
    "################################################################################\n",
    "# TODO:                                                                        #\n",
    "# Your training code here.                                                     #\n",
    "################################################################################\n",
    "acc_hist_1 = np.zeros(4)\n",
    "acc_hist_2 = np.zeros(4)\n",
    "\n",
    "fns = np.array([1,2,3,4])\n",
    "\n",
    "for i in range(4):\n",
    "    model = CNNClassifier()\n",
    "    criterion = nn.CrossEntropyLoss(reduction='mean')\n",
    "    # Note: for all my suggested optimizers, I wrap them in a learning rate decay schedule to decay LR\n",
    "    if i==0:\n",
    "        # original setting\n",
    "        optim = torch.optim.SGD(model.parameters(), lr=1e-1)\n",
    "        scheduler = torch.optim.lr_scheduler.StepLR(optim, step_size = 5, gamma=0.1, last_epoch=-1)\n",
    "    elif i==1:\n",
    "        # setting suggested in class (ADAM)\n",
    "        optim = torch.optim.Adam(model.parameters(), lr=1e-1, betas=(0.9, 0.999), eps=1e-08, weight_decay=0, amsgrad=False)\n",
    "        scheduler = torch.optim.lr_scheduler.StepLR(optim, step_size = 5, gamma=0.1, last_epoch=-1)\n",
    "    elif i==2:\n",
    "        # Adaptive Gradient\n",
    "        optim = torch.optim.Adagrad(model.parameters(), lr=1e-1, lr_decay=0, weight_decay=0, initial_accumulator_value=0, eps=1e-10)\n",
    "        scheduler = torch.optim.lr_scheduler.StepLR(optim, step_size = 5, gamma=0.1, last_epoch=-1)\n",
    "    elif i==3:\n",
    "        # SGD + Momentum\n",
    "        optim = torch.optim.SGD(model.parameters(), lr=1e-1, momentum=lr, dampening=0, weight_decay=0, nesterov=False)\n",
    "        scheduler = torch.optim.lr_scheduler.StepLR(optim, step_size = 5, gamma=0.1, last_epoch=-1)\n",
    "        # SGD Nesterov (commented out)\n",
    "        #optim.SGD(params, lr=lr, momentum=0, dampening=0, weight_decay=0, nesterov=True)\n",
    "        # LBFGS (commented out)\n",
    "        #optim.LBFGS(params, lr=lr, max_iter=20, max_eval=None, tolerance_grad=1e-07, tolerance_change=1e-09, history_size=100, line_search_fn=None)\n",
    "        # RMSProp (commented out)\n",
    "        #optim.RMSprop(params, lr=lr, alpha=0.99, eps=1e-08, weight_decay=0, momentum=0, centered=False)\n",
    "    else:\n",
    "        print(\"i is out of bounds\")\n",
    "        \n",
    "    for e in range(epoch):\n",
    "        # Decay Learning Rate\n",
    "        scheduler.step()\n",
    "        # Print Learning Rate\n",
    "        print('Epoch:', e,'LR:', scheduler.get_last_lr())\n",
    "        loss_epoch = 0  # record accmulative loss for each epoch\n",
    "        for x, y in train_loader:\n",
    "            optim.zero_grad()\n",
    "            y_pred = model(x)\n",
    "            loss = criterion(y_pred, y)\n",
    "            loss.backward()\n",
    "            optim.step()\n",
    "            loss_epoch += loss.item()\n",
    "        print(f'Epoch {e}: {loss_epoch}')\n",
    "    \n",
    "    model.eval()\n",
    "    acc_hist_1[i] = get_model_acc(model, train_loader)\n",
    "    acc_hist_2[i] = get_model_acc(model, test_loader)\n",
    "    \n",
    "fig=plt.figure()\n",
    "ax=fig.add_subplot(111)\n",
    " \n",
    "ax.plot(['SGD','AdaM','Ada','SGD+Mom'],acc_hist_1,c='b',ls='-',label='Training')\n",
    "ax.plot(['SGD','AdaM','Ada','SGD+Mom'],acc_hist_2,c='g',ls='-',label='Test')\n",
    "plt.ylabel('Accuracy');\n",
    "plt.xlabel('Optimizer'); \n",
    "plt.legend(loc=1)\n",
    "plt.show()\n",
    "################################################################################\n",
    "#                                 END OF YOUR CODE                             #\n",
    "################################################################################"
   ]
  },
  {
   "cell_type": "markdown",
   "metadata": {},
   "source": [
    "<span style=\"color:red\">**What did you see? Which optimizer is your favorite? Describe:**</span>\n",
    "\n",
    "I observe that for this particular problem, the SGD+Momentum optimizer yields the best results."
   ]
  },
  {
   "cell_type": "markdown",
   "metadata": {},
   "source": [
    "### 2.2.4 Improve Your Model [10 pts]\n",
    "Again, we want you to play with your model a bit harder, and improve it. You are free to use everything you can find in the documents (`BatchNorm`, `SeLU`, etc), as long as it is not a **predefined network architectures in PyTorch package**. You can also implement some famous network architectures to push the performance. \n",
    "\n",
    "(A simple network with 5-6 `nn.Conv2d` can give you at least 70% accuracy on testing set)."
   ]
  },
  {
   "cell_type": "code",
   "execution_count": 50,
   "metadata": {},
   "outputs": [],
   "source": [
    "################################################################################\n",
    "# TODO:                                                                        #\n",
    "# Your training code here.                                                     #\n",
    "################################################################################\n",
    "\n",
    "### Building Modified AlexNet with dropout\n",
    "\n",
    "class ModAlex_Classifier(nn.Module):\n",
    "    \n",
    "    def __init__(self):\n",
    "        super(ModAlex_Classifier, self).__init__()\n",
    "        ################################################################################\n",
    "        # TODO:                                                                        #\n",
    "        # Construct a CNN with 2 or 3 convolutional layers and 1 linear layer for      #\n",
    "        # outputing class prediction. You are free to pick the hyperparameters         #\n",
    "        ################################################################################\n",
    "        self.relu = nn.ReLU()\n",
    "        self.sigmoid = nn.Sigmoid()\n",
    "        self.tanh = nn.Tanh()\n",
    "        self.dropout = nn.Dropout(p=0.2)\n",
    "        self.bn1 = nn.BatchNorm2d(96)\n",
    "        self.bn2 = nn.BatchNorm2d(256)\n",
    "        self.pad1 = nn.ZeroPad2d(1)\n",
    "        self.pad2 = nn.ZeroPad2d(2)\n",
    "        self.conv1 = nn.Conv2d(in_channels= 3, out_channels= 96, kernel_size= (5, 5), stride=(1, 1))\n",
    "        self.conv2 = nn.Conv2d(in_channels= 96, out_channels= 256, kernel_size= (3, 3), stride=(1, 1))\n",
    "        self.conv3 = nn.Conv2d(in_channels= 256, out_channels= 384, kernel_size= (2, 2), stride=(1, 1))\n",
    "        self.conv4 = nn.Conv2d(in_channels= 384, out_channels= 384, kernel_size= (2, 2), stride=(1, 1))\n",
    "        self.conv5 = nn.Conv2d(in_channels= 384, out_channels= 256, kernel_size= (2, 2), stride=(1, 1))\n",
    "        self.nopool = nn.MaxPool2d(kernel_size=(1, 1), stride=(1, 1))\n",
    "        self.pool2 = nn.MaxPool2d(kernel_size=(2, 2), stride=(2, 2))\n",
    "        self.pool3 = nn.MaxPool2d(kernel_size=(3, 3), stride=(2, 2))\n",
    "        self.fc6 = nn.Linear((3*3*256), 4096)\n",
    "        self.fc7 = nn.Linear(4096, 4096)\n",
    "        self.fc8 = nn.Linear(4096, 10)\n",
    "        ################################################################################\n",
    "        #                                 END OF YOUR CODE                             #\n",
    "        ################################################################################\n",
    "        \n",
    "        \n",
    "    def forward(self, x):\n",
    "        ################################################################################\n",
    "        # TODO:                                                                        #\n",
    "        # Forward pass of your network. First extract feature with CNN, and predict    #\n",
    "        # class scores with linear layer. Be careful about your input/output shape.    #\n",
    "        ################################################################################\n",
    "        L1 = self.conv1(x)\n",
    "        #print(L1.size())\n",
    "        Pool1 = self.pool2(L1)\n",
    "        B1 = self.bn1(Pool1)\n",
    "        A1 = self.relu(B1)\n",
    "        D1 = self.dropout(A1)\n",
    "        Pad1 = self.pad1(D1)\n",
    "        L2 = self.conv2(Pad1)\n",
    "        #print(L2.size())\n",
    "        Pool2 = self.pool2(L2)\n",
    "        B2 = self.bn2(Pool2)\n",
    "        A2 = self.relu(B2)\n",
    "        D2 = self.dropout(A2)\n",
    "        Pad2 = self.pad1(D2)\n",
    "        L3 = self.conv3(Pad2)\n",
    "        #print(L3.size())\n",
    "        A3 = self.relu(L3)\n",
    "        L4 = self.conv4(A3)\n",
    "        #print(L4.size())\n",
    "        A4 = self.relu(L4)\n",
    "        L5 = self.conv5(A4)\n",
    "        #print(L5.size())\n",
    "        Pool3 = self.pool2(L5)\n",
    "        F = Pool3.view(-1, (3**2)*256)\n",
    "        FC6 = self.fc6(F)\n",
    "        FC7 = self.fc7(FC6)\n",
    "        FC8 = self.fc8(FC7)\n",
    "        y_pred = FC8\n",
    "        return y_pred\n",
    "        ################################################################################\n",
    "        #                                 END OF YOUR CODE                             #\n",
    "        ################################################################################\n",
    "\n",
    "\n",
    "################################################################################\n",
    "#                                 END OF YOUR CODE                             #\n",
    "################################################################################"
   ]
  },
  {
   "cell_type": "code",
   "execution_count": 51,
   "metadata": {},
   "outputs": [
    {
     "name": "stdout",
     "output_type": "stream",
     "text": [
      "Epoch: 0 LR: [0.1]\n",
      "Epoch 0: 1160.6814322471619\n",
      "Epoch: 1 LR: [0.1]\n",
      "Epoch 1: 810.3750056922436\n",
      "Epoch: 2 LR: [0.1]\n",
      "Epoch 2: 646.8717033565044\n",
      "Epoch: 3 LR: [0.1]\n",
      "Epoch 3: 543.6128820776939\n",
      "Epoch: 4 LR: [0.010000000000000002]\n",
      "Epoch 4: 352.8277967572212\n",
      "Epoch: 5 LR: [0.010000000000000002]\n",
      "Epoch 5: 308.9448258280754\n",
      "Epoch: 6 LR: [0.010000000000000002]\n",
      "Epoch 6: 284.99368415772915\n",
      "Epoch: 7 LR: [0.010000000000000002]\n",
      "Epoch 7: 261.9217217862606\n",
      "Epoch: 8 LR: [0.010000000000000002]\n",
      "Epoch 8: 241.31869158148766\n",
      "Epoch: 9 LR: [0.0010000000000000002]\n",
      "Epoch 9: 209.38201734423637\n",
      "tensor(46804)\n",
      "tensor(8143)\n",
      "Training accuracy: 93.60800170898438, Testing accuracy: 81.43000030517578\n"
     ]
    }
   ],
   "source": [
    "# Training and Testing\n",
    "epoch = 10\n",
    "lr = 1e-1\n",
    "n_input = 3072\n",
    "n_classes = 10\n",
    "batch_size = 64\n",
    "num_workers = num_workers\n",
    "\n",
    "train_loader = torch.utils.data.DataLoader(trainset, batch_size=64, shuffle=True, num_workers=2)\n",
    "test_loader = torch.utils.data.DataLoader(testset, batch_size=100, shuffle=False, num_workers=2)\n",
    "\n",
    "model = ModAlex_Classifier()\n",
    "criterion = nn.CrossEntropyLoss(reduction='mean')\n",
    "optim = torch.optim.SGD(model.parameters(), lr=1e-1, momentum=1e-1, dampening=0, weight_decay=0, nesterov=False)\n",
    "scheduler = torch.optim.lr_scheduler.StepLR(optim, step_size = 5, gamma=0.1, last_epoch=-1)\n",
    "\n",
    "for e in range(epoch):\n",
    "    # Decay Learning Rate\n",
    "    scheduler.step()\n",
    "    # Print Learning Rate\n",
    "    print('Epoch:', e,'LR:', scheduler.get_last_lr())\n",
    "    loss_epoch = 0  # record accmulative loss for each epoch\n",
    "    for x, y in train_loader:\n",
    "        optim.zero_grad()\n",
    "        y_pred = model(x)\n",
    "        loss = criterion(y_pred, y)\n",
    "        loss.backward()\n",
    "        optim.step()\n",
    "        loss_epoch += loss.item()\n",
    "    print(f'Epoch {e}: {loss_epoch}')\n",
    "    \n",
    "model.eval()\n",
    "train_acc = get_model_acc(model, train_loader)\n",
    "test_acc = get_model_acc(model, test_loader)\n",
    "print(f'Training accuracy: {train_acc}, Testing accuracy: {test_acc}')"
   ]
  },
  {
   "cell_type": "markdown",
   "metadata": {},
   "source": [
    "### Guidelines for Downloading PDF in Google Colab\n",
    "- Run below cells only in Google Colab, Comment out in case of Jupyter notebook"
   ]
  },
  {
   "cell_type": "code",
   "execution_count": null,
   "metadata": {},
   "outputs": [],
   "source": [
    "#Run below two lines (in google colab), installation steps to get .pdf of the notebook\n",
    "\n",
    "#!apt-get install texlive texlive-xetex texlive-latex-extra pandoc\n",
    "#!pip install pypandoc\n",
    "\n",
    "# After installation, comment above two lines and run again to remove installation comments from the notebook."
   ]
  },
  {
   "cell_type": "code",
   "execution_count": null,
   "metadata": {},
   "outputs": [],
   "source": [
    "# Find path to your notebook file in drive and enter in below line\n",
    "\n",
    "#!jupyter nbconvert --to PDF \"your_notebook_path_here/DL_Assignment_2.ipynb\"\n",
    "\n",
    "#Example: \"/content/drive/My Drive/DL_Fall_2020/Assignment_2/DL_Assignment_2.ipynb\""
   ]
  }
 ],
 "metadata": {
  "kernelspec": {
   "display_name": "Python 3",
   "language": "python",
   "name": "python3"
  },
  "language_info": {
   "codemirror_mode": {
    "name": "ipython",
    "version": 3
   },
   "file_extension": ".py",
   "mimetype": "text/x-python",
   "name": "python",
   "nbconvert_exporter": "python",
   "pygments_lexer": "ipython3",
   "version": "3.8.3"
  }
 },
 "nbformat": 4,
 "nbformat_minor": 1
}
